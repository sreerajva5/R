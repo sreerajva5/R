{
 "cells": [
  {
   "cell_type": "markdown",
   "metadata": {},
   "source": [
    "#### R- basics 2 (Variables definition)"
   ]
  },
  {
   "cell_type": "markdown",
   "metadata": {},
   "source": [
    "A variable provides us with named storage that our programs can manipulate. A variable in R can store an atomic vector, group of atomic vectors or a combination of many Robjects. A valid variable name consists of letters, numbers and the dot or underline characters. The variable name starts with a letter or the dot not followed by a number."
   ]
  },
  {
   "cell_type": "code",
   "execution_count": 8,
   "metadata": {},
   "outputs": [
    {
     "data": {
      "image/png": "[encoded data removed]"
     },
     "metadata": {},
     "output_type": "display_data"
    }
   ],
   "source": [
    "library(\"IRdisplay\")\n",
    "display_png(file=\"E:\\\\R_variables_criteria.PNG\")"
   ]
  },
  {
   "cell_type": "markdown",
   "metadata": {},
   "source": [
    "Variable Assignment\n",
    "\n",
    "The variables can be assigned values using leftward, rightward and equal to operator. The values of the variables can be printed using print() or cat() function. The cat() function combines multiple items into a continuous print output."
   ]
  },
  {
   "cell_type": "code",
   "execution_count": 9,
   "metadata": {},
   "outputs": [],
   "source": [
    "# Assignment using equal operator.\n",
    "var.1 = c(0,1,2,3)           \n",
    "\n",
    "# Assignment using leftward operator.\n",
    "var.2 <- c(\"learn\",\"R\")   \n",
    "\n",
    "# Assignment using rightward operator.   \n",
    "c(TRUE,1) -> var.3 "
   ]
  },
  {
   "cell_type": "code",
   "execution_count": 10,
   "metadata": {},
   "outputs": [
    {
     "name": "stdout",
     "output_type": "stream",
     "text": [
      "[1] 0 1 2 3\n",
      "var.1 is  0 1 2 3 \n",
      "var.2 is  learn R \n",
      "var.3 is  1 1 \n"
     ]
    }
   ],
   "source": [
    "print(var.1)\n",
    "cat (\"var.1 is \", var.1 ,\"\\n\")\n",
    "cat (\"var.2 is \", var.2 ,\"\\n\")\n",
    "cat (\"var.3 is \", var.3 ,\"\\n\")\n",
    "\n",
    "#Note − The vector c(TRUE,1) has a mix of logical and numeric class. So logical class is coerced to numeric class making TRUE as 1."
   ]
  },
  {
   "cell_type": "markdown",
   "metadata": {},
   "source": [
    "Data Type of a Variable\n",
    "\n",
    "\n",
    "In R, a variable itself is not declared of any data type, rather it gets the data type of the R - object assigned to it. So R is called a dynamically typed language, which means that we can change a variable’s data type of the same variable again and again when using it in a program."
   ]
  },
  {
   "cell_type": "code",
   "execution_count": 14,
   "metadata": {},
   "outputs": [
    {
     "name": "stdout",
     "output_type": "stream",
     "text": [
      "The class of var_x is  character \n",
      "  Now the class of var_x is  numeric \n",
      "   Next the class of var_x becomes  integer \n"
     ]
    }
   ],
   "source": [
    "var_x = \"Hello\"\n",
    "cat(\"The class of var_x is \",class(var_x),\"\\n\")\n",
    "\n",
    "var_x = 34.5\n",
    "cat(\"  Now the class of var_x is \",class(var_x),\"\\n\")\n",
    "\n",
    "var_x = 27L\n",
    "cat(\"   Next the class of var_x becomes \",class(var_x),\"\\n\")"
   ]
  },
  {
   "cell_type": "markdown",
   "metadata": {},
   "source": [
    "Finding Variables\n",
    "\n",
    "To know all the variables currently available in the workspace we use the ls() function. Also the ls() function can use patterns to match the variable names."
   ]
  },
  {
   "cell_type": "code",
   "execution_count": 15,
   "metadata": {},
   "outputs": [
    {
     "name": "stdout",
     "output_type": "stream",
     "text": [
      "[1] \"v\"     \"var.1\" \"var.2\" \"var.3\" \"var_x\"\n"
     ]
    }
   ],
   "source": [
    "print(ls())"
   ]
  },
  {
   "cell_type": "markdown",
   "metadata": {},
   "source": [
    "The variables starting with dot(.) are hidden, they can be listed using \"all.names = TRUE\" argument to ls() function."
   ]
  },
  {
   "cell_type": "code",
   "execution_count": 16,
   "metadata": {},
   "outputs": [
    {
     "name": "stdout",
     "output_type": "stream",
     "text": [
      "[1] \".pbd_env\" \"v\"        \"var.1\"    \"var.2\"    \"var.3\"    \"var_x\"   \n"
     ]
    }
   ],
   "source": [
    "print(ls(all.names = TRUE))"
   ]
  },
  {
   "cell_type": "markdown",
   "metadata": {},
   "source": [
    "Deleting Variables\n",
    "\n",
    "Variables can be deleted by using the rm() function. Below we delete the variable var.3. On printing the value of the variable error is thrown."
   ]
  },
  {
   "cell_type": "code",
   "execution_count": 17,
   "metadata": {},
   "outputs": [
    {
     "ename": "ERROR",
     "evalue": "Error in print(var.3): object 'var.3' not found\n",
     "output_type": "error",
     "traceback": [
      "Error in print(var.3): object 'var.3' not found\nTraceback:\n",
      "1. print(var.3)"
     ]
    }
   ],
   "source": [
    "rm(var.3)\n",
    "print(var.3)"
   ]
  },
  {
   "cell_type": "markdown",
   "metadata": {},
   "source": [
    "All the variables can be deleted by using the rm() and ls() function together."
   ]
  },
  {
   "cell_type": "code",
   "execution_count": 18,
   "metadata": {},
   "outputs": [
    {
     "name": "stdout",
     "output_type": "stream",
     "text": [
      "character(0)\n"
     ]
    }
   ],
   "source": [
    "rm(list = ls())\n",
    "print(ls())"
   ]
  }
 ],
 "metadata": {
  "kernelspec": {
   "display_name": "R",
   "language": "R",
   "name": "ir"
  },
  "language_info": {
   "codemirror_mode": "r",
   "file_extension": ".r",
   "mimetype": "text/x-r-source",
   "name": "R",
   "pygments_lexer": "r",
   "version": "3.6.1"
  }
 },
 "nbformat": 4,
 "nbformat_minor": 4
}
